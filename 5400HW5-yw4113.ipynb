{
  "nbformat": 4,
  "nbformat_minor": 0,
  "metadata": {
    "colab": {
      "provenance": [],
      "authorship_tag": "ABX9TyOHXNyxq4nqPI3k0FQ/5z5U",
      "include_colab_link": true
    },
    "kernelspec": {
      "name": "python3",
      "display_name": "Python 3"
    },
    "language_info": {
      "name": "python"
    }
  },
  "cells": [
    {
      "cell_type": "markdown",
      "metadata": {
        "id": "view-in-github",
        "colab_type": "text"
      },
      "source": [
        "<a href=\"https://colab.research.google.com/github/ilonayoyoo/100-Days-of-Code-Data-Science/blob/main/5400HW5-yw4113.ipynb\" target=\"_parent\"><img src=\"https://colab.research.google.com/assets/colab-badge.svg\" alt=\"Open In Colab\"/></a>"
      ]
    },
    {
      "cell_type": "code",
      "execution_count": 1,
      "metadata": {
        "colab": {
          "base_uri": "https://localhost:8080/"
        },
        "id": "5ptTB1ZGmZPy",
        "outputId": "ac710907-9ee3-4baf-b6a8-51247d660cb8"
      },
      "outputs": [
        {
          "output_type": "stream",
          "name": "stdout",
          "text": [
            "Mounted at /content/drive\n"
          ]
        }
      ],
      "source": [
        "from google.colab import drive\n",
        "drive.mount(\"/content/drive\")\n",
        "crunchbase = \"/content/drive/MyDrive/crunchbase_odm_orgs.csv\""
      ]
    },
    {
      "cell_type": "code",
      "source": [
        "!pip install spark\n",
        "\n",
        "!pip install pyspark\n",
        "\n"
      ],
      "metadata": {
        "colab": {
          "base_uri": "https://localhost:8080/"
        },
        "id": "fPRLjKdjmbT9",
        "outputId": "45db171f-def3-45c3-d5d8-9361b757609c"
      },
      "execution_count": 3,
      "outputs": [
        {
          "output_type": "stream",
          "name": "stdout",
          "text": [
            "Collecting spark\n",
            "  Downloading spark-0.2.1.tar.gz (41 kB)\n",
            "\u001b[?25l     \u001b[90m━━━━━━━━━━━━━━━━━━━━━━━━━━━━━━━━━━━━━━━━\u001b[0m \u001b[32m0.0/41.0 kB\u001b[0m \u001b[31m?\u001b[0m eta \u001b[36m-:--:--\u001b[0m\r\u001b[2K     \u001b[90m━━━━━━━━━━━━━━━━━━━━━━━━━━━━━━━━━━━━━━━━\u001b[0m \u001b[32m41.0/41.0 kB\u001b[0m \u001b[31m1.2 MB/s\u001b[0m eta \u001b[36m0:00:00\u001b[0m\n",
            "\u001b[?25h  Preparing metadata (setup.py) ... \u001b[?25l\u001b[?25hdone\n",
            "Building wheels for collected packages: spark\n",
            "  Building wheel for spark (setup.py) ... \u001b[?25l\u001b[?25hdone\n",
            "  Created wheel for spark: filename=spark-0.2.1-py3-none-any.whl size=58749 sha256=74e0dd42cfb9dc5a990008729dc77b39ca81416a5d69435d544c5e075207f1df\n",
            "  Stored in directory: /root/.cache/pip/wheels/63/88/77/b4131110ea4094540f7b47c6d62a649807d7e94800da5eab0b\n",
            "Successfully built spark\n",
            "Installing collected packages: spark\n",
            "Successfully installed spark-0.2.1\n",
            "Collecting pyspark\n",
            "  Downloading pyspark-3.5.1.tar.gz (317.0 MB)\n",
            "\u001b[2K     \u001b[90m━━━━━━━━━━━━━━━━━━━━━━━━━━━━━━━━━━━━━━━━\u001b[0m \u001b[32m317.0/317.0 MB\u001b[0m \u001b[31m3.3 MB/s\u001b[0m eta \u001b[36m0:00:00\u001b[0m\n",
            "\u001b[?25h  Preparing metadata (setup.py) ... \u001b[?25l\u001b[?25hdone\n",
            "Requirement already satisfied: py4j==0.10.9.7 in /usr/local/lib/python3.10/dist-packages (from pyspark) (0.10.9.7)\n",
            "Building wheels for collected packages: pyspark\n",
            "  Building wheel for pyspark (setup.py) ... \u001b[?25l\u001b[?25hdone\n",
            "  Created wheel for pyspark: filename=pyspark-3.5.1-py2.py3-none-any.whl size=317488491 sha256=d0ab4219271a255dcdea36602e421efb27e193508dd277f6be7d7e1e45a7f4a5\n",
            "  Stored in directory: /root/.cache/pip/wheels/80/1d/60/2c256ed38dddce2fdd93be545214a63e02fbd8d74fb0b7f3a6\n",
            "Successfully built pyspark\n",
            "Installing collected packages: pyspark\n",
            "Successfully installed pyspark-3.5.1\n"
          ]
        }
      ]
    },
    {
      "cell_type": "code",
      "source": [
        "import json\n",
        "import csv\n",
        "import spark\n",
        "from pyspark.sql import SparkSession\n",
        "from pyspark.sql.functions import col, regexp_extract, when, reverse, udf\n",
        "from pyspark.sql.types import BooleanType"
      ],
      "metadata": {
        "id": "Ftaj31pOmvlr"
      },
      "execution_count": 4,
      "outputs": []
    },
    {
      "cell_type": "code",
      "source": [
        "from pyspark.sql import SparkSession\n",
        "from pyspark.sql import SQLContext\n",
        "# Gets or creates a new Spark session\n",
        "spark = SparkSession.builder.getOrCreate()\n",
        "sc = spark.sparkContext\n",
        "print(\"Using Apache Spark Version\", spark.version)"
      ],
      "metadata": {
        "colab": {
          "base_uri": "https://localhost:8080/"
        },
        "id": "yayglXrTnPas",
        "outputId": "80be73ec-5672-42b3-d06f-27b1b541dd1e"
      },
      "execution_count": 5,
      "outputs": [
        {
          "output_type": "stream",
          "name": "stdout",
          "text": [
            "Using Apache Spark Version 3.5.1\n"
          ]
        }
      ]
    },
    {
      "cell_type": "code",
      "source": [
        "import os, sys\n",
        "\n",
        "os.environ['PYSPARK_PYTHON'] = sys.executable\n",
        "os.environ['PYSPARK_DRIVER_PYTHON'] = sys.executable"
      ],
      "metadata": {
        "id": "LYaq62Oxnfwn"
      },
      "execution_count": 6,
      "outputs": []
    },
    {
      "cell_type": "code",
      "source": [
        "spark = SparkSession.builder \\\n",
        "    .appName(\"crunchbase\") \\\n",
        "    .getOrCreate()\n",
        "\n",
        "df = spark.read.csv(crunchbase, header=True)"
      ],
      "metadata": {
        "id": "2SfpTSM5ngC4"
      },
      "execution_count": 10,
      "outputs": []
    },
    {
      "cell_type": "markdown",
      "source": [
        "Q1: Find all companies with the name that is only two words (e.g. : \"Goldman Sachs\") print the count of such companies and show()only the name and location (city, region, country_code) in the resulting Spark DataFrame"
      ],
      "metadata": {
        "id": "DUs1uD1s7d63"
      }
    },
    {
      "cell_type": "code",
      "source": [
        "from pyspark.sql.functions import split\n",
        "from pyspark.sql.functions import size\n",
        "\n",
        "\n",
        "df1 = df.withColumn(\"words\", split(df.name, \" \"))\n",
        "df1 = df1.withColumn(\"word_count\", size(df1.words))\n",
        "df1_filter = df1.filter(df1[\"word_count\"] == 2)"
      ],
      "metadata": {
        "id": "FsoMmYCfnobA"
      },
      "execution_count": 16,
      "outputs": []
    },
    {
      "cell_type": "code",
      "source": [
        "df1_filter.count()"
      ],
      "metadata": {
        "colab": {
          "base_uri": "https://localhost:8080/"
        },
        "id": "9EQw64DQ6dxY",
        "outputId": "e2139de8-e886-47c6-85d0-8ced5e322ca2"
      },
      "execution_count": 17,
      "outputs": [
        {
          "output_type": "execute_result",
          "data": {
            "text/plain": [
              "362534"
            ]
          },
          "metadata": {},
          "execution_count": 17
        }
      ]
    },
    {
      "cell_type": "code",
      "source": [
        "df1_filter.show()"
      ],
      "metadata": {
        "colab": {
          "base_uri": "https://localhost:8080/"
        },
        "id": "i1yQZufz6nRr",
        "outputId": "d8a52600-ae8b-40f6-9471-936ca05612a8"
      },
      "execution_count": 18,
      "outputs": [
        {
          "output_type": "stream",
          "name": "stdout",
          "text": [
            "+--------------------+--------------------+------------+------------+--------------------+--------------------+--------------------+--------------------+--------------------+--------------------+--------------------+----------------------+----------------+----------+------------+--------------------+--------------------+----------+\n",
            "|                uuid|                name|        type|primary_role|              cb_url|              domain|        homepage_url|            logo_url|        facebook_url|         twitter_url|        linkedin_url|combined_stock_symbols|            city|    region|country_code|   short_description|               words|word_count|\n",
            "+--------------------+--------------------+------------+------------+--------------------+--------------------+--------------------+--------------------+--------------------+--------------------+--------------------+----------------------+----------------+----------+------------+--------------------+--------------------+----------+\n",
            "|1bd1698c-cd0f-37b...|         Time Warner|organization|     company|https://www.crunc...|      timewarner.com|http://www.timewa...|https://res.cloud...|https://www.faceb...|https://twitter.c...|https://www.linke...|              nyse:TWX|        New York|  New York|         USA|Time Warner is a ...|      [Time, Warner]|         2|\n",
            "|30b3efdf-6024-804...|       Goldman Sachs|organization|    investor|https://www.crunc...|    goldmansachs.com|http://www.goldma...|https://res.cloud...|https://www.faceb...|http://twitter.co...|http://www.linked...|               nyse:GS|        New York|  New York|         USA|Goldman Sachs is ...|    [Goldman, Sachs]|         2|\n",
            "|e867f917-49f4-717...|     Jingle Networks|organization|     company|https://www.crunc...|  jinglenetworks.com|http://jinglenetw...|https://res.cloud...|https://www.faceb...|http://twitter.co...|                NULL|                  NULL|        New York|  New York|         USA|Jingle Networks i...|  [Jingle, Networks]|         2|\n",
            "|3f2b5885-4257-0d7...|Hearst Communicat...|organization|     company|https://www.crunc...|          hearst.com|http://www.hearst...|https://res.cloud...|https://www.faceb...|https://twitter.c...|https://www.linke...|                  NULL|        New York|  New York|         USA|Hearst is large p...|[Hearst, Communic...|         2|\n",
            "|98cd9691-c7ca-dd2...|    Ning Interactive|organization|     company|https://www.crunc...|            ning.com|https://www.ning.com|https://res.cloud...|                NULL|https://twitter.c...|https://www.linke...|                  NULL|      Menlo Park|California|         USA|Ning is a SaaS-ba...| [Ning, Interactive]|         2|\n",
            "|4c8d7754-50b1-a16...| Prosper Marketplace|organization|     company|https://www.crunc...|         prosper.com|http://www.prospe...|https://res.cloud...|http://www.facebo...|http://twitter.co...|http://www.linked...|                  NULL|   San Francisco|California|         USA|Prosper Marketpla...|[Prosper, Marketp...|         2|\n",
            "|5a80638f-1e6e-bf9...|       Tribune Media|organization|     company|https://www.crunc...|    tribunemedia.com|http://www.tribun...|https://res.cloud...|https://www.faceb...|https://twitter.c...|https://www.linke...|                  NULL|         Chicago|  Illinois|         USA|Tribune Media is ...|    [Tribune, Media]|         2|\n",
            "|3d02b92f-668f-1a9...| Aggregate Knowledge|organization|     company|https://www.crunc...|aggregateknowledg...|http://www.aggreg...|https://res.cloud...|                NULL|http://twitter.co...|https://www.linke...|                  NULL|       San Mateo|California|         USA|Aggregate Knowled...|[Aggregate, Knowl...|         2|\n",
            "|74cb3f14-aac0-d2a...|        Zing Systems|organization|     company|https://www.crunc...|            zing.net|     http://zing.net|https://res.cloud...|                NULL|                NULL|                NULL|                  NULL|   Mountain View|California|         USA|Zing Systems enab...|     [Zing, Systems]|         2|\n",
            "|ff9aad78-dde3-485...|         Amie Street|organization|     company|https://www.crunc...|      amiestreet.com|http://amiestreet...|                NULL|                NULL|                NULL|                NULL|                  NULL|Long Island City|  New York|         USA|Amie Street is a ...|      [Amie, Street]|         2|\n",
            "|e2a753f1-1247-b2f...|          Legg Mason|organization|    investor|https://www.crunc...|       leggmason.com|http://www.leggma...|https://res.cloud...|http://www.facebo...|http://twitter.co...|http://www.linked...|               nyse:LM|       Baltimore|  Maryland|         USA|Throughout their ...|       [Legg, Mason]|         2|\n",
            "|bca6051d-bfab-c24...|        Haute Secure|organization|     company|https://www.crunc...|     hautesecure.com|http://hautesecur...|https://res.cloud...|                NULL|                NULL|                NULL|                  NULL|         Seattle|Washington|         USA|Haute Secure is a...|     [Haute, Secure]|         2|\n",
            "|dfdae7fa-22ce-d20...|          Squid Labs|organization|     company|https://www.crunc...|      squid-labs.com|http://www.squid-...|https://res.cloud...|                NULL|                NULL|                NULL|                  NULL|         Alameda|California|         USA|Squid Labs was fo...|       [Squid, Labs]|         2|\n",
            "|95b566c0-b31a-458...|           SAY Media|organization|     company|https://www.crunc...|        saymedia.com|http://www.saymed...|https://res.cloud...|http://www.facebo...|http://twitter.co...|http://www.linked...|                  NULL|   San Francisco|California|         USA|SAY Media is a di...|        [SAY, Media]|         2|\n",
            "|993fc5a4-2e2f-7ff...|Metaweb Technologies|organization|     company|https://www.crunc...|         metaweb.com|http://www.metawe...|https://res.cloud...|                NULL|                NULL|                NULL|                  NULL|   San Francisco|California|         USA|Metaweb Technolog...|[Metaweb, Technol...|         2|\n",
            "|57267573-e339-efe...|          Mode Media|organization|     company|https://www.crunc...|       corp.mode.com|http://www.corp.m...|https://res.cloud...|http://www.facebo...|http://twitter.co...|https://www.linke...|                  NULL|        Brisbane|California|         USA|Mode is a consume...|       [Mode, Media]|         2|\n",
            "|309e0502-ad2f-35e...|          Linden Lab|organization|     company|https://www.crunc...|       lindenlab.com|http://www.linden...|https://res.cloud...|                NULL|http://twitter.co...|http://www.linked...|                  NULL|   San Francisco|California|         USA|Creates platforms...|       [Linden, Lab]|         2|\n",
            "|e71331f1-99b4-3d2...| Broadband Mechanics|organization|     company|https://www.crunc...|broadbandmechanic...|http://www.broadb...|https://res.cloud...|                NULL|                NULL|                NULL|                  NULL|    Walnut Creek|California|         USA|Broadband Mechani...|[Broadband, Mecha...|         2|\n",
            "|032eea86-255c-8c0...|       TheFind, Inc.|organization|     company|https://www.crunc...|         thefind.com|http://www.thefin...|https://res.cloud...|http://www.facebo...|http://twitter.co...|                NULL|                  NULL|   Mountain View|California|         USA|TheFind is an e-c...|    [TheFind,, Inc.]|         2|\n",
            "|96227e0d-4879-94a...|          Cafe Press|organization|     company|https://www.crunc...|       cafepress.com|http://www.cafepr...|https://res.cloud...|http://www.facebo...|http://twitter.co...|http://www.linked...|           nasdaq:PRSS|      Louisville|  Colorado|         USA|CafePress runs Ca...|       [Cafe, Press]|         2|\n",
            "+--------------------+--------------------+------------+------------+--------------------+--------------------+--------------------+--------------------+--------------------+--------------------+--------------------+----------------------+----------------+----------+------------+--------------------+--------------------+----------+\n",
            "only showing top 20 rows\n",
            "\n"
          ]
        }
      ]
    },
    {
      "cell_type": "code",
      "source": [
        "df.filter(regexp_extract(col('name'), r'^\\w+\\s+\\w+$', 0) != '')[['name', 'city', 'region', 'country_code']].show()"
      ],
      "metadata": {
        "colab": {
          "base_uri": "https://localhost:8080/"
        },
        "id": "5TkEAP8yobkK",
        "outputId": "9c2acb13-b26b-43d1-9455-453ff7822aa2"
      },
      "execution_count": 12,
      "outputs": [
        {
          "output_type": "stream",
          "name": "stdout",
          "text": [
            "+--------------------+----------------+----------+------------+\n",
            "|                name|            city|    region|country_code|\n",
            "+--------------------+----------------+----------+------------+\n",
            "|         Time Warner|        New York|  New York|         USA|\n",
            "|       Goldman Sachs|        New York|  New York|         USA|\n",
            "|     Jingle Networks|        New York|  New York|         USA|\n",
            "|Hearst Communicat...|        New York|  New York|         USA|\n",
            "|    Ning Interactive|      Menlo Park|California|         USA|\n",
            "| Prosper Marketplace|   San Francisco|California|         USA|\n",
            "|       Tribune Media|         Chicago|  Illinois|         USA|\n",
            "| Aggregate Knowledge|       San Mateo|California|         USA|\n",
            "|        Zing Systems|   Mountain View|California|         USA|\n",
            "|         Amie Street|Long Island City|  New York|         USA|\n",
            "|          Legg Mason|       Baltimore|  Maryland|         USA|\n",
            "|        Haute Secure|         Seattle|Washington|         USA|\n",
            "|          Squid Labs|         Alameda|California|         USA|\n",
            "|           SAY Media|   San Francisco|California|         USA|\n",
            "|Metaweb Technologies|   San Francisco|California|         USA|\n",
            "|          Mode Media|        Brisbane|California|         USA|\n",
            "|          Linden Lab|   San Francisco|California|         USA|\n",
            "| Broadband Mechanics|    Walnut Creek|California|         USA|\n",
            "|          Cafe Press|      Louisville|  Colorado|         USA|\n",
            "|       Seeking Alpha|        New York|  New York|         USA|\n",
            "+--------------------+----------------+----------+------------+\n",
            "only showing top 20 rows\n",
            "\n"
          ]
        }
      ]
    },
    {
      "cell_type": "code",
      "source": [
        "df.filter(regexp_extract(col('name'), r'^\\w+\\s+\\w+$', 0) != '').count()"
      ],
      "metadata": {
        "colab": {
          "base_uri": "https://localhost:8080/"
        },
        "id": "6ZFGqjoKooEi",
        "outputId": "88e9cfa8-323d-476f-83ce-f04b9a02fde8"
      },
      "execution_count": 13,
      "outputs": [
        {
          "output_type": "execute_result",
          "data": {
            "text/plain": [
              "336766"
            ]
          },
          "metadata": {},
          "execution_count": 13
        }
      ]
    },
    {
      "cell_type": "markdown",
      "source": [
        "Q2: Find all companies located in the state of California: print the count of such companies and show()only the name and location (city, region, country_code) in the resulting Spark DataFrame"
      ],
      "metadata": {
        "id": "dC1dF-0_7pPS"
      }
    },
    {
      "cell_type": "code",
      "source": [
        "df[df['region'] == 'California'][['name', 'city', 'region', 'country_code']].show()\n"
      ],
      "metadata": {
        "colab": {
          "base_uri": "https://localhost:8080/"
        },
        "id": "7eHTgXwA71MX",
        "outputId": "23519b1a-19b6-4b81-e95c-a03c38f45ea0"
      },
      "execution_count": 19,
      "outputs": [
        {
          "output_type": "stream",
          "name": "stdout",
          "text": [
            "+--------------------+--------------+----------+------------+\n",
            "|                name|          city|    region|country_code|\n",
            "+--------------------+--------------+----------+------------+\n",
            "|                Zoho|    Pleasanton|California|         USA|\n",
            "|            Facebook|    Menlo Park|California|         USA|\n",
            "|               Accel|     Palo Alto|California|         USA|\n",
            "|           Omnidrive|     Palo Alto|California|         USA|\n",
            "|                Geni|West Hollywood|California|         USA|\n",
            "|             Flektor|   Culver City|California|         USA|\n",
            "|Fox Interactive M...| Beverly Hills|California|         USA|\n",
            "|             Twitter| San Francisco|California|         USA|\n",
            "|         StumbleUpon| San Francisco|California|         USA|\n",
            "|              Scribd| San Francisco|California|         USA|\n",
            "|             Slacker|     San Diego|California|         USA|\n",
            "|                Lala|     Palo Alto|California|         USA|\n",
            "|               Helio|   Los Angeles|California|         USA|\n",
            "|                eBay|      San Jose|California|         USA|\n",
            "|             Postini|    San Carlos|California|         USA|\n",
            "|               Plaxo|     Sunnyvale|California|         USA|\n",
            "|               Cisco|      San Jose|California|         USA|\n",
            "|            Powerset| San Francisco|California|         USA|\n",
            "|          Technorati| San Francisco|California|         USA|\n",
            "|               OpenX|      Pasadena|California|         USA|\n",
            "+--------------------+--------------+----------+------------+\n",
            "only showing top 20 rows\n",
            "\n"
          ]
        }
      ]
    },
    {
      "cell_type": "code",
      "source": [
        "df[df['region'] == 'California'].count()"
      ],
      "metadata": {
        "colab": {
          "base_uri": "https://localhost:8080/"
        },
        "id": "3m-mFISn8DLq",
        "outputId": "5e915e62-e99e-43f1-cfde-63368a22eff2"
      },
      "execution_count": 20,
      "outputs": [
        {
          "output_type": "execute_result",
          "data": {
            "text/plain": [
              "94871"
            ]
          },
          "metadata": {},
          "execution_count": 20
        }
      ]
    },
    {
      "cell_type": "markdown",
      "source": [
        "**Question 3: Add a \"Blog\" column to the DataFrame with the row entries set to 1 if the \"domain\" field contains \"blogspot.com\", and 0 otherwise.** <br> *show() only the name, location (city, region, country_code) and \"Blog\" column for companies with the \"Blog\" field marked as 1*"
      ],
      "metadata": {
        "id": "k2iFWCJW8Mzk"
      }
    },
    {
      "cell_type": "code",
      "source": [
        "df = df.withColumn(\"Blog\", when(df['domain'].like('%blogspot.com%'), 1).otherwise(0))\n",
        "df[df[\"Blog\"] == 1][['name', 'city', 'region', 'country_code', 'Blog']].show()"
      ],
      "metadata": {
        "colab": {
          "base_uri": "https://localhost:8080/"
        },
        "id": "IiXbo3Hx8QR0",
        "outputId": "be6a803c-e967-46b9-d486-6c3aa44e6229"
      },
      "execution_count": 24,
      "outputs": [
        {
          "output_type": "stream",
          "name": "stdout",
          "text": [
            "+--------------------+-------------+------------+------------+----+\n",
            "|                name|         city|      region|country_code|Blog|\n",
            "+--------------------+-------------+------------+------------+----+\n",
            "|     Sad Urdu Poetry|  San Antonio|       Texas|         USA|   1|\n",
            "|      The Tech-Freak|    Sheffield|   Sheffield|         GBR|   1|\n",
            "|           Ma.Gnolia|San Francisco|  California|         USA|   1|\n",
            "|      Dynasty Online|         NULL|        NULL|        NULL|   1|\n",
            "|            Hire-seo|         NULL|        NULL|        NULL|   1|\n",
            "|          YelloYello|     Rijswijk|Zuid-Holland|         NLD|   1|\n",
            "|       Youtubehiphop|    São Paulo|   Sao Paulo|         BRA|   1|\n",
            "|     Payday advances|         NULL|        NULL|        NULL|   1|\n",
            "|Blog Traffic Exch...|   Menlo Park|  California|         USA|   1|\n",
            "|Sirius Forex Trad...|         NULL|        NULL|        NULL|   1|\n",
            "|          Utilsforge|     Delaware|        Ohio|         USA|   1|\n",
            "|      Discover India|    Faridabad|     Haryana|         IND|   1|\n",
            "|   Latest Home Decor|         NULL|        NULL|        NULL|   1|\n",
            "|Sanguinet Consulting|San Francisco|  California|         USA|   1|\n",
            "|  john kenneth rosel|San Francisco|  California|         USA|   1|\n",
            "|Web Solution Prov...|         NULL|        NULL|        NULL|   1|\n",
            "|Walking Ants Tech...|         NULL|        NULL|        NULL|   1|\n",
            "|      BypassFanPages|         NULL|        NULL|        NULL|   1|\n",
            "|      List Australia|    Melbourne|    Victoria|         AUS|   1|\n",
            "|NeverAnEmptyGlass...|   Scottsdale|     Arizona|         USA|   1|\n",
            "+--------------------+-------------+------------+------------+----+\n",
            "only showing top 20 rows\n",
            "\n"
          ]
        }
      ]
    },
    {
      "cell_type": "code",
      "source": [
        "df[df[\"Blog\"] == 1].count()"
      ],
      "metadata": {
        "colab": {
          "base_uri": "https://localhost:8080/"
        },
        "id": "Wi8MakTG8TpL",
        "outputId": "47fc0d9d-bcf4-401a-f479-9b34e4730535"
      },
      "execution_count": 25,
      "outputs": [
        {
          "output_type": "execute_result",
          "data": {
            "text/plain": [
              "394"
            ]
          },
          "metadata": {},
          "execution_count": 25
        }
      ]
    },
    {
      "cell_type": "markdown",
      "source": [
        "\n",
        "Question 4: Find all companies with names that are palindromes (name reads the same way forward and reverse, e.g. madam) using Spark UDF function"
      ],
      "metadata": {
        "id": "wST67Y2Y8f7l"
      }
    },
    {
      "cell_type": "code",
      "source": [
        "from pyspark.sql.types import BooleanType\n",
        "from pyspark.sql.functions import udf\n",
        "\n",
        "def is_palindrome(name):\n",
        "    if name is None:\n",
        "        return False\n",
        "    name = name.lower()\n",
        "    return name == name[::-1]\n",
        "\n",
        "palindrome_company = udf(is_palindrome, BooleanType())"
      ],
      "metadata": {
        "id": "1ndzCBAM8gNg"
      },
      "execution_count": 26,
      "outputs": []
    },
    {
      "cell_type": "code",
      "source": [
        "df4 = df.filter(palindrome_company(df[\"name\"]))"
      ],
      "metadata": {
        "id": "tpqL5-vN8xQm"
      },
      "execution_count": 27,
      "outputs": []
    },
    {
      "cell_type": "code",
      "source": [
        "df4.select(\"name\").count()"
      ],
      "metadata": {
        "colab": {
          "base_uri": "https://localhost:8080/"
        },
        "id": "JX9tjni98_kJ",
        "outputId": "e53237ee-eecd-436a-d5d4-d83a87da0520"
      },
      "execution_count": 28,
      "outputs": [
        {
          "output_type": "execute_result",
          "data": {
            "text/plain": [
              "1132"
            ]
          },
          "metadata": {},
          "execution_count": 28
        }
      ]
    },
    {
      "cell_type": "code",
      "source": [
        "df4[['name', 'city', 'region', 'country_code', 'Blog']].show()"
      ],
      "metadata": {
        "colab": {
          "base_uri": "https://localhost:8080/"
        },
        "id": "RW5QE51q9Btr",
        "outputId": "57864a41-6f13-41a8-e84b-a11b2858682f"
      },
      "execution_count": 30,
      "outputs": [
        {
          "output_type": "stream",
          "name": "stdout",
          "text": [
            "+-------+--------------------+--------------------+------------+----+\n",
            "|   name|                city|              region|country_code|Blog|\n",
            "+-------+--------------------+--------------------+------------+----+\n",
            "| Revver|         Los Angeles|          California|         USA|   0|\n",
            "|  KAYAK|            Stamford|         Connecticut|         USA|   0|\n",
            "|  ooVoo|            New York|            New York|         USA|   0|\n",
            "|Imikimi|             Seattle|          Washington|         USA|   0|\n",
            "|   Teet|        Lva Tolstogo|              Kaluga|         RUS|   0|\n",
            "| Mollom|Berchem-sainte-ag...|Brussels Hoofdste...|         BEL|   0|\n",
            "|  63336|              London|             England|         GBR|   0|\n",
            "|  TipiT|               Delft|        Zuid-Holland|         NLD|   0|\n",
            "|  beweb|            Auckland|            Auckland|         NZL|   0|\n",
            "|    CSC|        Falls Church|            Virginia|         USA|   0|\n",
            "|    CBC|              Ottawa|             Ontario|         CAN|   0|\n",
            "|  Orbro|              Howell|            Michigan|         USA|   0|\n",
            "|    OQO|       San Francisco|          California|         USA|   0|\n",
            "|Revyver|                NULL|                NULL|        NULL|   0|\n",
            "|    SAS|                Cary|      North Carolina|         USA|   0|\n",
            "|WowOwow|            New York|            New York|         USA|   0|\n",
            "|    e4e|         Santa Clara|          California|         USA|   0|\n",
            "|    PHP|         Little Rock|            Arkansas|         USA|   0|\n",
            "|    ivi|              Moscow|         Moscow City|         RUS|   0|\n",
            "|   ADDA|           Bangalore|           Karnataka|         IND|   0|\n",
            "+-------+--------------------+--------------------+------------+----+\n",
            "only showing top 20 rows\n",
            "\n"
          ]
        }
      ]
    },
    {
      "cell_type": "markdown",
      "source": [],
      "metadata": {
        "id": "HxJr_5Me9TJ6"
      }
    }
  ]
}